{
 "cells": [
  {
   "cell_type": "code",
   "execution_count": 1,
   "id": "e9df12a9-fcae-4125-a462-ea2eefd420b1",
   "metadata": {},
   "outputs": [
    {
     "name": "stderr",
     "output_type": "stream",
     "text": [
      "[nltk_data] Downloading package stopwords to\n",
      "[nltk_data]     C:\\Users\\kasim\\AppData\\Roaming\\nltk_data...\n",
      "[nltk_data]   Package stopwords is already up-to-date!\n"
     ]
    }
   ],
   "source": [
    "import pandas as pd\n",
    "import numpy as np\n",
    "import nltk\n",
    "from nltk.corpus import stopwords\n",
    "\n",
    "# df is the main dataset used in the project\n",
    "df_news = pd.read_csv(\"https://raw.githubusercontent.com/EagleAdelaide/FinSen_Dataset/refs/heads/main/data.pptx/FinSen_US_Categorized_Timestamp.csv\")\n",
    "\n",
    "# nasdaq_hist_data is the historical data of the NASDAQ \n",
    "df_price = pd.read_csv(\"./data/HistoricalData_1750671813123.csv\")\n",
    "\n",
    "nltk.download('stopwords')\n",
    "stop_words = set(stopwords.words('english'))"
   ]
  }
 ],
 "metadata": {
  "kernelspec": {
   "display_name": "Python 3 (ipykernel)",
   "language": "python",
   "name": "python3"
  },
  "language_info": {
   "codemirror_mode": {
    "name": "ipython",
    "version": 3
   },
   "file_extension": ".py",
   "mimetype": "text/x-python",
   "name": "python",
   "nbconvert_exporter": "python",
   "pygments_lexer": "ipython3",
   "version": "3.12.0"
  }
 },
 "nbformat": 4,
 "nbformat_minor": 5
}
