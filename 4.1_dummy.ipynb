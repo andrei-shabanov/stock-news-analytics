{
 "cells": [
  {
   "cell_type": "code",
   "execution_count": 1,
   "id": "2b163d4a-eea3-4244-9925-e65ccca5a955",
   "metadata": {},
   "outputs": [],
   "source": [
    "#%run 2.1_data_preparation_news.ipynb\n",
    "\n",
    "from sklearn.dummy import DummyClassifier\n",
    "from sklearn.model_selection import train_test_split\n",
    "from sklearn.feature_extraction.text import TfidfVectorizer\n",
    "from sklearn.preprocessing import StandardScaler\n",
    "from sklearn.metrics import classification_report\n",
    "from scipy.sparse import hstack\n",
    "import pandas as pd"
   ]
  },
  {
   "cell_type": "code",
   "execution_count": 2,
   "id": "347f9bd3-0986-4803-be05-2f9f90421bff",
   "metadata": {},
   "outputs": [],
   "source": [
    "tokenized_df = pd.read_csv('./merged_df.csv')"
   ]
  },
  {
   "cell_type": "code",
   "execution_count": 3,
   "id": "bb6e26ff-cba6-4474-8365-470872608c5f",
   "metadata": {},
   "outputs": [],
   "source": [
    "# Fehlende Werte in numerischen Spalten auffüllen\n",
    "for col in ['Prev_change', 'Sma_5', 'Volatility']:\n",
    "    tokenized_df[col] = tokenized_df[col].fillna(tokenized_df[col].mean())\n",
    "\n",
    "# Text zusammenfügen\n",
    "tokenized_df['text'] = tokenized_df['Content']\n",
    "\n",
    "# TF-IDF-Vektorisierung\n",
    "vectorizer = TfidfVectorizer(ngram_range=(1, 2), max_df=0.9, min_df=5)\n",
    "X_text = vectorizer.fit_transform(tokenized_df['text'])\n",
    "\n",
    "# Numerische Features normalisieren\n",
    "numeric_features = ['Prev_change', 'Sma_5', 'Volatility']\n",
    "scaler = StandardScaler()\n",
    "X_numeric = scaler.fit_transform(tokenized_df[numeric_features])\n",
    "\n",
    "# Text + Zahlen kombinieren\n",
    "X_combined = hstack([X_text, X_numeric])\n",
    "\n",
    "# Zielvariable\n",
    "y = tokenized_df['Simple Label']\n"
   ]
  },
  {
   "cell_type": "code",
   "execution_count": 4,
   "id": "f606675e-6bf9-45f4-b4e8-165282179b9d",
   "metadata": {},
   "outputs": [],
   "source": [
    "X_train, X_test, y_train, y_test = train_test_split(\n",
    "    X_combined, y, test_size=0.2, random_state=42\n",
    ")\n"
   ]
  },
  {
   "cell_type": "code",
   "execution_count": 5,
   "id": "a140eba2-8fb1-48e9-8752-fa77aa989d6e",
   "metadata": {},
   "outputs": [
    {
     "name": "stdout",
     "output_type": "stream",
     "text": [
      "=== Dummy Classifier (most frequent) ===\n",
      "              precision    recall  f1-score   support\n",
      "\n",
      "    negative       0.55      1.00      0.71      1496\n",
      "     positiv       0.00      0.00      0.00      1232\n",
      "\n",
      "    accuracy                           0.55      2728\n",
      "   macro avg       0.27      0.50      0.35      2728\n",
      "weighted avg       0.30      0.55      0.39      2728\n",
      "\n"
     ]
    },
    {
     "name": "stderr",
     "output_type": "stream",
     "text": [
      "C:\\Users\\kasim\\AppData\\Local\\Programs\\Python\\Python312\\Lib\\site-packages\\sklearn\\metrics\\_classification.py:1706: UndefinedMetricWarning: Precision is ill-defined and being set to 0.0 in labels with no predicted samples. Use `zero_division` parameter to control this behavior.\n",
      "  _warn_prf(average, modifier, f\"{metric.capitalize()} is\", result.shape[0])\n",
      "C:\\Users\\kasim\\AppData\\Local\\Programs\\Python\\Python312\\Lib\\site-packages\\sklearn\\metrics\\_classification.py:1706: UndefinedMetricWarning: Precision is ill-defined and being set to 0.0 in labels with no predicted samples. Use `zero_division` parameter to control this behavior.\n",
      "  _warn_prf(average, modifier, f\"{metric.capitalize()} is\", result.shape[0])\n",
      "C:\\Users\\kasim\\AppData\\Local\\Programs\\Python\\Python312\\Lib\\site-packages\\sklearn\\metrics\\_classification.py:1706: UndefinedMetricWarning: Precision is ill-defined and being set to 0.0 in labels with no predicted samples. Use `zero_division` parameter to control this behavior.\n",
      "  _warn_prf(average, modifier, f\"{metric.capitalize()} is\", result.shape[0])\n"
     ]
    }
   ],
   "source": [
    "# Dummy-Modell: immer häufigste Klasse vorhersagen\n",
    "dummy = DummyClassifier(strategy=\"most_frequent\")\n",
    "dummy.fit(X_train, y_train)\n",
    "y_dummy_pred = dummy.predict(X_test)\n",
    "\n",
    "print(\"=== Dummy Classifier (most frequent) ===\")\n",
    "print(classification_report(y_test, y_dummy_pred))\n"
   ]
  },
  {
   "cell_type": "code",
   "execution_count": 6,
   "id": "479a52bd-3f86-4810-bf90-43f27f39cc7e",
   "metadata": {},
   "outputs": [
    {
     "name": "stdout",
     "output_type": "stream",
     "text": [
      "=== Dummy Classifier (random) ===\n",
      "              precision    recall  f1-score   support\n",
      "\n",
      "    negative       0.55      0.50      0.52      1496\n",
      "     positiv       0.45      0.50      0.48      1232\n",
      "\n",
      "    accuracy                           0.50      2728\n",
      "   macro avg       0.50      0.50      0.50      2728\n",
      "weighted avg       0.51      0.50      0.50      2728\n",
      "\n"
     ]
    }
   ],
   "source": [
    "# Dummy-Modell: zufällige Vorhersagen\n",
    "dummy_random = DummyClassifier(strategy=\"uniform\")\n",
    "dummy_random.fit(X_train, y_train)\n",
    "y_dummy_rand_pred = dummy_random.predict(X_test)\n",
    "\n",
    "print(\"=== Dummy Classifier (random) ===\")\n",
    "print(classification_report(y_test, y_dummy_rand_pred))"
   ]
  }
 ],
 "metadata": {
  "kernelspec": {
   "display_name": "Python 3 (ipykernel)",
   "language": "python",
   "name": "python3"
  },
  "language_info": {
   "codemirror_mode": {
    "name": "ipython",
    "version": 3
   },
   "file_extension": ".py",
   "mimetype": "text/x-python",
   "name": "python",
   "nbconvert_exporter": "python",
   "pygments_lexer": "ipython3",
   "version": "3.12.0"
  }
 },
 "nbformat": 4,
 "nbformat_minor": 5
}
