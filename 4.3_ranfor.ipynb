{
 "cells": [
  {
   "cell_type": "code",
   "execution_count": null,
   "id": "968dc0b3-c9cf-4440-a73b-72157de4533f",
   "metadata": {
    "ExecuteTime": {
     "end_time": "2025-07-30T21:44:05.316149Z",
     "start_time": "2025-07-30T21:44:05.313338Z"
    }
   },
   "outputs": [
    {
     "name": "stderr",
     "output_type": "stream",
     "text": [
      "C:\\Users\\kasim\\AppData\\Local\\Programs\\Python\\Python312\\Lib\\site-packages\\tqdm\\auto.py:21: TqdmWarning: IProgress not found. Please update jupyter and ipywidgets. See https://ipywidgets.readthedocs.io/en/stable/user_install.html\n",
      "  from .autonotebook import tqdm as notebook_tqdm\n",
      "[nltk_data] Downloading package stopwords to\n",
      "[nltk_data]     C:\\Users\\kasim\\AppData\\Roaming\\nltk_data...\n",
      "[nltk_data]   Package stopwords is already up-to-date!\n"
     ]
    },
    {
     "name": "stdout",
     "output_type": "stream",
     "text": [
      "Title              object\n",
      "Tag                object\n",
      "Date       datetime64[ns]\n",
      "Content            object\n",
      "dtype: object\n"
     ]
    }
   ],
   "source": [
    "%run 2_data_preparation_news.ipynb"
   ]
  },
  {
   "cell_type": "code",
   "execution_count": null,
   "id": "291e2baf-1820-45f1-84ab-7cf0de11c6ee",
   "metadata": {
    "ExecuteTime": {
     "end_time": "2025-07-30T21:54:07.123479Z",
     "start_time": "2025-07-30T21:53:36.660792Z"
    }
   },
   "outputs": [],
   "source": [
    "from sklearn.ensemble import RandomForestClassifier\n",
    "from sklearn.metrics import classification_report\n",
    "from sklearn.preprocessing import StandardScaler\n",
    "from sklearn.feature_extraction.text import TfidfVectorizer\n",
    "from scipy.sparse import hstack\n",
    "from sklearn.model_selection import train_test_split\n",
    "import pandas as pd\n",
    "\n",
    "numeric_features = ['Prev_change', 'Sma_5', 'Volatility' ]\n",
    "\n",
    "for col in ['Prev_change', 'Sma_5', 'Volatility' ]:\n",
    "    tokenized_df[col] = tokenized_df[col].fillna(tokenized_df[col].mean())\n",
    "    \n",
    "numeric_data = tokenized_df[numeric_features]\n",
    "scaler = StandardScaler()\n",
    "X_numeric = scaler.fit_transform(numeric_data)\n",
    "\n",
    "vectorizer = TfidfVectorizer(ngram_range=(1, 2), max_df=0.9, min_df=5)\n",
    "X_text = vectorizer.fit_transform(tokenized_df['Content'])\n",
    "\n",
    "X_combined = hstack([X_text, X_numeric])\n",
    "y = tokenized_df['Simple Label']\n",
    "\n",
    "X_train, X_test, y_train, y_test = train_test_split(X_combined, y, test_size=0.2, random_state=42)\n",
    "\n",
    "rf_model = RandomForestClassifier(n_estimators=100, class_weight='balanced', random_state=42)\n",
    "rf_model.fit(X_train, y_train)\n",
    "\n",
    "y_pred_rf = rf_model.predict(X_test)\n",
    "print(classification_report(y_test, y_pred_rf))"
   ]
  },
  {
   "cell_type": "code",
   "execution_count": null,
   "id": "4758be2c6179c8a9",
   "metadata": {
    "ExecuteTime": {
     "end_time": "2025-07-30T21:51:18.034296Z",
     "start_time": "2025-07-30T21:51:17.932171Z"
    }
   },
   "outputs": [],
   "source": [
    "import matplotlib.pyplot as plt\n",
    "\n",
    "feature_importances = rf_model.feature_importances_\n",
    "\n",
    "feature_names = vectorizer.get_feature_names_out().tolist() + numeric_features\n",
    "feature_importance_df = pd.DataFrame({'Feature': feature_names, 'Importance': feature_importances})\n",
    "\n",
    "feature_importance_df = feature_importance_df.sort_values(by='Importance', ascending=False)\n",
    "\n",
    "print(feature_importance_df)\n",
    "\n",
    "feature_importance_df = feature_importance_df.sort_values(by='Importance', ascending=False).head(10)\n",
    "\n",
    "plt.figure(figsize=(10, 6))\n",
    "plt.barh(feature_importance_df['Feature'], feature_importance_df['Importance'])\n",
    "plt.xlabel('Importance')\n",
    "plt.title('Feature Importance (Random Forest)')\n",
    "plt.gca().invert_yaxis()\n",
    "plt.show()"
   ]
  }
 ],
 "metadata": {
  "kernelspec": {
   "display_name": "Python 3 (ipykernel)",
   "language": "python",
   "name": "python3"
  },
  "language_info": {
   "codemirror_mode": {
    "name": "ipython",
    "version": 3
   },
   "file_extension": ".py",
   "mimetype": "text/x-python",
   "name": "python",
   "nbconvert_exporter": "python",
   "pygments_lexer": "ipython3",
   "version": "3.12.0"
  }
 },
 "nbformat": 4,
 "nbformat_minor": 5
}
