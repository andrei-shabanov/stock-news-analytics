{
 "cells": [
  {
   "cell_type": "code",
   "id": "5f42ca93-d145-4014-959c-8540246ca11e",
   "metadata": {
    "ExecuteTime": {
     "end_time": "2025-07-30T18:40:33.596513Z",
     "start_time": "2025-07-30T18:40:33.593557Z"
    }
   },
   "source": "#%run 2.1_data_preparation_news.ipynb",
   "outputs": [],
   "execution_count": 7
  },
  {
   "cell_type": "code",
   "id": "2fd50a30-3d3e-47cb-b6d4-5dcaebc9c8f8",
   "metadata": {
    "ExecuteTime": {
     "end_time": "2025-07-30T18:40:33.607660Z",
     "start_time": "2025-07-30T18:40:33.605272Z"
    }
   },
   "source": [
    "from sklearn.model_selection import train_test_split\n",
    "from sklearn.feature_extraction.text import CountVectorizer\n",
    "from sklearn.naive_bayes import MultinomialNB\n",
    "from sklearn.metrics import classification_report\n",
    "import pandas as pd"
   ],
   "outputs": [],
   "execution_count": 8
  },
  {
   "cell_type": "code",
   "id": "894f9710-24e5-4ef5-b0ea-9cb6f98bf3b5",
   "metadata": {
    "ExecuteTime": {
     "end_time": "2025-07-30T18:40:34.080291Z",
     "start_time": "2025-07-30T18:40:33.613194Z"
    }
   },
   "source": [
    "\n",
    "\n",
    "\n",
    "tokenized_df = pd.read_csv('C:\\\\Users\\\\kasim\\\\Desktop\\\\stock-news-analytics\\\\merged_df.csv')\n",
    "\n",
    "vectorizer = CountVectorizer()\n",
    "X = vectorizer.fit_transform(tokenized_df['Content'])\n",
    "\n",
    "y = tokenized_df['Simple Label'] \n",
    "\n",
    "X_train, X_test, y_train, y_test = train_test_split(X, y, test_size=0.2, random_state=42)\n",
    "\n",
    "model = MultinomialNB()\n",
    "model.fit(X_train, y_train)\n",
    "\n",
    "y_pred = model.predict(X_test)\n",
    "\n",
    "print(classification_report(y_test, y_pred))"
   ],
   "outputs": [
    {
     "name": "stdout",
     "output_type": "stream",
     "text": [
      "              precision    recall  f1-score   support\n",
      "\n",
      "    negative       0.57      0.64      0.60      1496\n",
      "     positiv       0.49      0.42      0.45      1232\n",
      "\n",
      "    accuracy                           0.54      2728\n",
      "   macro avg       0.53      0.53      0.53      2728\n",
      "weighted avg       0.53      0.54      0.53      2728\n",
      "\n"
     ]
    }
   ],
   "execution_count": 9
  }
 ],
 "metadata": {
  "kernelspec": {
   "display_name": "Python 3 (ipykernel)",
   "language": "python",
   "name": "python3"
  },
  "language_info": {
   "codemirror_mode": {
    "name": "ipython",
    "version": 3
   },
   "file_extension": ".py",
   "mimetype": "text/x-python",
   "name": "python",
   "nbconvert_exporter": "python",
   "pygments_lexer": "ipython3",
   "version": "3.12.0"
  }
 },
 "nbformat": 4,
 "nbformat_minor": 5
}
