{
 "cells": [
  {
   "cell_type": "code",
   "execution_count": 1,
   "id": "968dc0b3-c9cf-4440-a73b-72157de4533f",
   "metadata": {},
   "outputs": [],
   "source": [
    "#%run 2.1_data_preparation_news.ipynb"
   ]
  },
  {
   "cell_type": "code",
   "execution_count": 2,
   "id": "291e2baf-1820-45f1-84ab-7cf0de11c6ee",
   "metadata": {},
   "outputs": [
    {
     "name": "stdout",
     "output_type": "stream",
     "text": [
      "              precision    recall  f1-score   support\n",
      "\n",
      "    negative       0.82      0.86      0.84      1496\n",
      "     positiv       0.82      0.77      0.79      1232\n",
      "\n",
      "    accuracy                           0.82      2728\n",
      "   macro avg       0.82      0.82      0.82      2728\n",
      "weighted avg       0.82      0.82      0.82      2728\n",
      "\n"
     ]
    }
   ],
   "source": [
    "from sklearn.ensemble import RandomForestClassifier\n",
    "from sklearn.metrics import classification_report\n",
    "from sklearn.preprocessing import StandardScaler\n",
    "from sklearn.feature_extraction.text import TfidfVectorizer\n",
    "from scipy.sparse import hstack\n",
    "from sklearn.model_selection import train_test_split\n",
    "import pandas as pd\n",
    "\n",
    "tokenized_df = pd.read_csv('./merged_df.csv')\n",
    "\n",
    "numeric_features = ['Prev_change', 'Sma_5', 'Volatility' ]\n",
    "\n",
    "for col in ['Prev_change', 'Sma_5', 'Volatility' ]:\n",
    "    tokenized_df[col] = tokenized_df[col].fillna(tokenized_df[col].mean())\n",
    "    \n",
    "numeric_data = tokenized_df[numeric_features]\n",
    "scaler = StandardScaler()\n",
    "X_numeric = scaler.fit_transform(numeric_data)\n",
    "\n",
    "vectorizer = TfidfVectorizer(ngram_range=(1, 2), max_df=0.9, min_df=5)\n",
    "X_text = vectorizer.fit_transform(tokenized_df['Content'])\n",
    "\n",
    "X_combined = hstack([X_text, X_numeric])\n",
    "y = tokenized_df['Simple Label']\n",
    "\n",
    "X_train, X_test, y_train, y_test = train_test_split(X_combined, y, test_size=0.2, random_state=42)\n",
    "\n",
    "rf_model = RandomForestClassifier(n_estimators=100, class_weight='balanced', random_state=42)\n",
    "rf_model.fit(X_train, y_train)\n",
    "\n",
    "y_pred_rf = rf_model.predict(X_test)\n",
    "print(classification_report(y_test, y_pred_rf))"
   ]
  }
 ],
 "metadata": {
  "kernelspec": {
   "display_name": "Python 3 (ipykernel)",
   "language": "python",
   "name": "python3"
  },
  "language_info": {
   "codemirror_mode": {
    "name": "ipython",
    "version": 3
   },
   "file_extension": ".py",
   "mimetype": "text/x-python",
   "name": "python",
   "nbconvert_exporter": "python",
   "pygments_lexer": "ipython3",
   "version": "3.12.0"
  }
 },
 "nbformat": 4,
 "nbformat_minor": 5
}
