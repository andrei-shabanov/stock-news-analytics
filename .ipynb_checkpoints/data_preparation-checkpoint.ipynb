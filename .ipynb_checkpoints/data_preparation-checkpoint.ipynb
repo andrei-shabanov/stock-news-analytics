{
 "cells": [
  {
   "cell_type": "code",
   "execution_count": null,
   "id": "a4322ab8-a958-4c4f-839e-aa619dc96e99",
   "metadata": {},
   "outputs": [],
   "source": [
    "!pip install pandas numpy nltk matplotlib seaborn wordcloud"
   ]
  },
  {
   "cell_type": "code",
   "execution_count": null,
   "id": "daa125de-c2e4-4f43-864e-46b65c6ec6e8",
   "metadata": {},
   "outputs": [],
   "source": [
    "import pandas as pd\n",
    "import numpy as np\n",
    "import re\n",
    "import nltk\n",
    "from nltk.corpus import stopwords\n",
    "\n",
    "nltk.download('stopwords')\n",
    "stop_words = set(stopwords.words('english'))\n"
   ]
  },
  {
   "cell_type": "code",
   "execution_count": null,
   "id": "04f0a63b-388b-458d-b76a-b791532a899a",
   "metadata": {},
   "outputs": [],
   "source": [
    "# Nachrichten-Dataset von Berke (FinSen)\n",
    "news_url = \"https://raw.githubusercontent.com/EagleAdelaide/FinSen_Dataset/refs/heads/main/data.pptx/FinSen_US_Categorized_Timestamp.csv\"\n",
    "df_news = pd.read_csv(news_url)\n",
    "df_news['Time'] = pd.to_datetime(df_news['Time'], format='%d/%m/%Y')\n",
    "\n",
    "# NASDAQ-Kursdaten von Andrei\n",
    "df_price = pd.read_csv(\"./data/HistoricalData_1750671813123.csv\")\n",
    "df_price['Date'] = pd.to_datetime(df_price['Date'], format='%m/%d/%Y')\n"
   ]
  },
  {
   "cell_type": "code",
   "execution_count": null,
   "id": "a814551a-09d5-4c80-af71-8e67407dab95",
   "metadata": {},
   "outputs": [],
   "source": [
    "# Kursveränderung berechnen (Von Andrei)\n",
    "df_price['change'] = np.round((df_price['Open'] - df_price['Close/Last']) / df_price['Open'], 5)\n",
    "\n",
    "# Label anhand der Kursveränderung\n",
    "conditions = [\n",
    "    (df_price['change'] >= 0.20),\n",
    "    ((df_price['change'] >= 0.13) & (df_price['change'] < 0.20)),\n",
    "    ((df_price['change'] >= 0.07) & (df_price['change'] < 0.13)),\n",
    "    ((df_price['change'] >= -0.07) & (df_price['change'] < 0.07)),\n",
    "    ((df_price['change'] >= -0.13) & (df_price['change'] < -0.07)),\n",
    "    ((df_price['change'] >= -0.20) & (df_price['change'] < -0.13)),\n",
    "    (df_price['change'] < -0.20)\n",
    "]\n",
    "labels = ['strong_gain', 'significant_gain', 'moderate_gain', 'neutral', 'moderate_loss', 'significant_loss', 'strong_loss']\n",
    "df_price['label'] = np.select(conditions, labels)\n"
   ]
  },
  {
   "cell_type": "code",
   "execution_count": null,
   "id": "fa292a52-a70b-4de2-9b38-775cab4ec6bd",
   "metadata": {},
   "outputs": [],
   "source": [
    "def clean_text(text):\n",
    "    text = re.sub(r'[^a-zA-Z ]', '', str(text)).lower()\n",
    "    tokens = text.split()\n",
    "    tokens = [w for w in tokens if w not in stop_words and len(w) > 2]\n",
    "    return \" \".join(tokens)\n",
    "\n",
    "df_news['cleaned_content'] = df_news['Content'].apply(clean_text)\n"
   ]
  },
  {
   "cell_type": "code",
   "execution_count": null,
   "id": "b6d4f56c-c7dc-4f56-81ca-cd7633a63055",
   "metadata": {},
   "outputs": [],
   "source": [
    "# Beide DataFrames mit Datumsspalten angleichen\n",
    "df_news['date'] = df_news['Time'].dt.date\n",
    "df_price['date'] = df_price['Date'].dt.date\n",
    "\n",
    "# Merge\n",
    "merged_df = pd.merge(df_news, df_price[['date', 'label']], on='date', how='left')\n"
   ]
  },
  {
   "cell_type": "code",
   "execution_count": null,
   "id": "b2516f1a-2dde-4311-be8b-911876e5cff7",
   "metadata": {},
   "outputs": [],
   "source": [
    "def simplify_label(label):\n",
    "    if 'gain' in label:\n",
    "        return 'positive'\n",
    "    elif 'loss' in label:\n",
    "        return 'negative'\n",
    "    else:\n",
    "        return 'neutral'\n",
    "\n",
    "merged_df['simple_label'] = merged_df['label'].apply(simplify_label)\n",
    "\n"
   ]
  }
 ],
 "metadata": {
  "kernelspec": {
   "display_name": "Python 3 (ipykernel)",
   "language": "python",
   "name": "python3"
  },
  "language_info": {
   "codemirror_mode": {
    "name": "ipython",
    "version": 3
   },
   "file_extension": ".py",
   "mimetype": "text/x-python",
   "name": "python",
   "nbconvert_exporter": "python",
   "pygments_lexer": "ipython3",
   "version": "3.13.3"
  }
 },
 "nbformat": 4,
 "nbformat_minor": 5
}
