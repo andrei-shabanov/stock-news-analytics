{
 "cells": [
  {
   "cell_type": "code",
   "execution_count": 1,
   "id": "7c1f2a75-dcf9-4c61-b762-cf8effc2f054",
   "metadata": {},
   "outputs": [
    {
     "name": "stdout",
     "output_type": "stream",
     "text": [
      "Date      datetime64[ns]\n",
      "Open             float64\n",
      "Close            float64\n",
      "Volume             int64\n",
      "dtype: object\n"
     ]
    },
    {
     "name": "stderr",
     "output_type": "stream",
     "text": [
      "C:\\Users\\kasim\\AppData\\Local\\Programs\\Python\\Python312\\Lib\\site-packages\\tqdm\\auto.py:21: TqdmWarning: IProgress not found. Please update jupyter and ipywidgets. See https://ipywidgets.readthedocs.io/en/stable/user_install.html\n",
      "  from .autonotebook import tqdm as notebook_tqdm\n",
      "[nltk_data] Downloading package stopwords to\n",
      "[nltk_data]     C:\\Users\\kasim\\AppData\\Roaming\\nltk_data...\n",
      "[nltk_data]   Package stopwords is already up-to-date!\n"
     ]
    },
    {
     "name": "stdout",
     "output_type": "stream",
     "text": [
      "Title              object\n",
      "Tag                object\n",
      "Date       datetime64[ns]\n",
      "Content            object\n",
      "dtype: object\n"
     ]
    }
   ],
   "source": [
    "#%run 2.1_data_preparation_news.ipynb"
   ]
  },
  {
   "cell_type": "code",
   "execution_count": 2,
   "id": "265aa088-f7b1-4fe9-a25b-021aca98671b",
   "metadata": {},
   "outputs": [
    {
     "name": "stdout",
     "output_type": "stream",
     "text": [
      "              precision    recall  f1-score   support\n",
      "\n",
      "    negative       0.85      0.84      0.84      1496\n",
      "     positiv       0.81      0.82      0.81      1232\n",
      "\n",
      "    accuracy                           0.83      2728\n",
      "   macro avg       0.83      0.83      0.83      2728\n",
      "weighted avg       0.83      0.83      0.83      2728\n",
      "\n"
     ]
    }
   ],
   "source": [
    "from sklearn.model_selection import train_test_split\n",
    "from sklearn.feature_extraction.text import TfidfVectorizer\n",
    "from sklearn.linear_model import LogisticRegression\n",
    "from sklearn.metrics import classification_report\n",
    "from sklearn.preprocessing import StandardScaler\n",
    "from scipy.sparse import hstack\n",
    "import pandas as pd\n",
    "import numpy as np\n",
    "\n",
    "tokenized_df = pd.read_csv('./merged_df.csv')\n",
    "\n",
    "label_map = {'negative': -1, 'neutral': 0, 'positive': 1}\n",
    "tokenized_df['finbert_label_num'] = tokenized_df['finbert_label'].map(label_map)\n",
    "\n",
    "for col in ['Prev_change', 'Sma_5', 'Volatility', 'finbert_label_num']:\n",
    "    tokenized_df[col] = tokenized_df[col].fillna(tokenized_df[col].mean())\n",
    "\n",
    "tokenized_df['text'] = tokenized_df['Cleaned Content'].apply(lambda x: ' '.join(x))\n",
    "\n",
    "vectorizer = TfidfVectorizer(ngram_range=(1, 2), max_df=0.9, min_df=5)\n",
    "X_text = vectorizer.fit_transform(tokenized_df['text'])\n",
    "\n",
    "numeric_features = ['Prev_change', 'Sma_5', 'Volatility']\n",
    "numeric_data = tokenized_df[numeric_features]\n",
    "scaler = StandardScaler()\n",
    "X_numeric = scaler.fit_transform(numeric_data)\n",
    "\n",
    "X_combined = hstack([X_text, X_numeric])\n",
    "\n",
    "y = tokenized_df['Simple Label']\n",
    "\n",
    "X_train, X_test, y_train, y_test = train_test_split(X_combined, y, test_size=0.2, random_state=42)\n",
    "\n",
    "model = LogisticRegression(class_weight='balanced', max_iter=1000)\n",
    "model.fit(X_train, y_train)\n",
    "\n",
    "y_pred = model.predict(X_test)\n",
    "print(classification_report(y_test, y_pred))"
   ]
  },
  {
   "cell_type": "code",
   "execution_count": 3,
   "id": "2afb2cdb-56f2-4ad9-aca7-cc907ce8aada",
   "metadata": {},
   "outputs": [
    {
     "name": "stdout",
     "output_type": "stream",
     "text": [
      "             feature  coefficient\n",
      "121    activity data    -0.575420\n",
      "182     added points    -0.526847\n",
      "203       additional     0.722955\n",
      "351              ago    -0.887933\n",
      "430         aircraft    -0.504737\n",
      "...              ...          ...\n",
      "23314   worse market    -0.593941\n",
      "23390           year    -0.733187\n",
      "23529          years    -0.758633\n",
      "23622  yields remain     0.585312\n",
      "23684    Prev_change    -3.326505\n",
      "\n",
      "[297 rows x 2 columns]\n"
     ]
    }
   ],
   "source": [
    "feature_names = vectorizer.get_feature_names_out().tolist() + numeric_features\n",
    "\n",
    "coefficients = model.coef_[0]\n",
    "\n",
    "coef_df = pd.DataFrame({\n",
    "    'feature': feature_names,\n",
    "    'coefficient': coefficients\n",
    "})\n",
    "\n",
    "top_positive = coef_df.sort_values(by='coefficient', ascending=False).head(15)\n",
    "top_negative = coef_df.sort_values(by='coefficient').head(15)\n",
    "\n",
    "print(coef_df[coef_df['coefficient'].abs() > 0.5])"
   ]
  },
  {
   "cell_type": "code",
   "execution_count": null,
   "id": "fb632646-2a7f-4786-83b1-df61fcabbb33",
   "metadata": {},
   "outputs": [],
   "source": []
  }
 ],
 "metadata": {
  "kernelspec": {
   "display_name": "Python 3 (ipykernel)",
   "language": "python",
   "name": "python3"
  },
  "language_info": {
   "codemirror_mode": {
    "name": "ipython",
    "version": 3
   },
   "file_extension": ".py",
   "mimetype": "text/x-python",
   "name": "python",
   "nbconvert_exporter": "python",
   "pygments_lexer": "ipython3",
   "version": "3.12.0"
  }
 },
 "nbformat": 4,
 "nbformat_minor": 5
}
