{
 "cells": [
  {
   "cell_type": "code",
   "execution_count": 1,
   "id": "7c1f2a75-dcf9-4c61-b762-cf8effc2f054",
   "metadata": {
    "ExecuteTime": {
     "end_time": "2025-07-30T19:32:06.199854Z",
     "start_time": "2025-07-30T19:32:06.196849Z"
    }
   },
   "outputs": [
    {
     "name": "stderr",
     "output_type": "stream",
     "text": [
      "C:\\Users\\kasim\\AppData\\Local\\Programs\\Python\\Python312\\Lib\\site-packages\\tqdm\\auto.py:21: TqdmWarning: IProgress not found. Please update jupyter and ipywidgets. See https://ipywidgets.readthedocs.io/en/stable/user_install.html\n",
      "  from .autonotebook import tqdm as notebook_tqdm\n",
      "[nltk_data] Downloading package stopwords to\n",
      "[nltk_data]     C:\\Users\\kasim\\AppData\\Roaming\\nltk_data...\n",
      "[nltk_data]   Package stopwords is already up-to-date!\n"
     ]
    },
    {
     "name": "stdout",
     "output_type": "stream",
     "text": [
      "Title              object\n",
      "Tag                object\n",
      "Date       datetime64[ns]\n",
      "Content            object\n",
      "dtype: object\n"
     ]
    }
   ],
   "source": [
    "%run 2_data_preparation_news.ipynb"
   ]
  },
  {
   "cell_type": "code",
   "execution_count": 2,
   "id": "265aa088-f7b1-4fe9-a25b-021aca98671b",
   "metadata": {
    "ExecuteTime": {
     "end_time": "2025-07-30T19:32:07.657574Z",
     "start_time": "2025-07-30T19:32:06.205398Z"
    }
   },
   "outputs": [
    {
     "name": "stdout",
     "output_type": "stream",
     "text": [
      "              precision    recall  f1-score   support\n",
      "\n",
      "    negative       0.84      0.84      0.84      1636\n",
      "     positiv       0.81      0.81      0.81      1343\n",
      "\n",
      "    accuracy                           0.83      2979\n",
      "   macro avg       0.82      0.82      0.82      2979\n",
      "weighted avg       0.83      0.83      0.83      2979\n",
      "\n"
     ]
    }
   ],
   "source": [
    "from sklearn.model_selection import train_test_split\n",
    "from sklearn.feature_extraction.text import TfidfVectorizer\n",
    "from sklearn.linear_model import LogisticRegression\n",
    "from sklearn.metrics import classification_report\n",
    "from sklearn.preprocessing import StandardScaler\n",
    "from scipy.sparse import hstack\n",
    "import pandas as pd\n",
    "import numpy as np\n",
    "\n",
    "for col in ['Prev_change', 'Sma_5', 'Volatility' ]:\n",
    "    tokenized_df[col] = tokenized_df[col].fillna(tokenized_df[col].mean())\n",
    "tokenized_df.dropna(subset=['Content'])\n",
    "\n",
    "vectorizer = TfidfVectorizer(ngram_range=(1, 2), max_df=0.9, min_df=5)\n",
    "X_text = vectorizer.fit_transform(tokenized_df['Content'])\n",
    "\n",
    "numeric_features = ['Prev_change', 'Sma_5', 'Volatility']\n",
    "numeric_data = tokenized_df[numeric_features]\n",
    "scaler = StandardScaler()\n",
    "X_numeric = scaler.fit_transform(numeric_data)\n",
    "\n",
    "X_combined = hstack([X_text, X_numeric])\n",
    "\n",
    "y = tokenized_df['Simple Label']\n",
    "\n",
    "X_train, X_test, y_train, y_test = train_test_split(X_combined, y, test_size=0.2, random_state=42)\n",
    "\n",
    "model = LogisticRegression(class_weight='balanced', max_iter=1000)\n",
    "model.fit(X_train, y_train)\n",
    "\n",
    "y_pred = model.predict(X_test)\n",
    "print(classification_report(y_test, y_pred))"
   ]
  },
  {
   "cell_type": "code",
   "execution_count": 3,
   "id": "2afb2cdb-56f2-4ad9-aca7-cc907ce8aada",
   "metadata": {
    "ExecuteTime": {
     "end_time": "2025-07-30T19:33:13.864376Z",
     "start_time": "2025-07-30T19:33:13.831881Z"
    }
   },
   "outputs": [
    {
     "name": "stdout",
     "output_type": "stream",
     "text": [
      "           feature  coefficient\n",
      "4246           cut     1.279799\n",
      "9906       housing     1.111922\n",
      "15069       oracle     1.203949\n",
      "15164      outlook     1.387310\n",
      "24556  Prev_change    -3.360623\n",
      "      feature  coefficient\n",
      "21252   stock      0.11318\n"
     ]
    }
   ],
   "source": [
    "feature_names = vectorizer.get_feature_names_out().tolist() + numeric_features\n",
    "\n",
    "coefficients = model.coef_[0]\n",
    "\n",
    "coef_df = pd.DataFrame({\n",
    "    'feature': feature_names,\n",
    "    'coefficient': coefficients\n",
    "})\n",
    "\n",
    "top_positive = coef_df.sort_values(by='coefficient', ascending=False).head(15)\n",
    "top_negative = coef_df.sort_values(by='coefficient').head(15)\n",
    "\n",
    "print(coef_df[coef_df['coefficient'].abs() > 1])\n",
    "print(coef_df[coef_df['feature'].isin(['stock'])])"
   ]
  },
  {
   "cell_type": "code",
   "execution_count": 4,
   "id": "fb632646-2a7f-4786-83b1-df61fcabbb33",
   "metadata": {
    "ExecuteTime": {
     "end_time": "2025-07-30T19:32:07.900420Z",
     "start_time": "2025-07-30T19:32:07.709198Z"
    }
   },
   "outputs": [
    {
     "name": "stderr",
     "output_type": "stream",
     "text": [
      "C:\\Users\\kasim\\AppData\\Local\\Temp\\ipykernel_15528\\2272052374.py:10: FutureWarning: \n",
      "\n",
      "Passing `palette` without assigning `hue` is deprecated and will be removed in v0.14.0. Assign the `y` variable to `hue` and set `legend=False` for the same effect.\n",
      "\n",
      "  sns.barplot(data=df, x='coefficient', y='feature', palette='coolwarm')\n"
     ]
    },
    {
     "data": {
      "image/png": "[encoded data removed]",
      "text/plain": [
       "<Figure size 1000x600 with 1 Axes>"
      ]
     },
     "metadata": {},
     "output_type": "display_data"
    }
   ],
   "source": [
    "import pandas as pd\n",
    "import seaborn as sns\n",
    "import matplotlib.pyplot as plt\n",
    "\n",
    "df = coef_df[coef_df['coefficient'].abs() > 1]\n",
    "\n",
    "df = df.sort_values(by='coefficient')\n",
    "\n",
    "plt.figure(figsize=(10, 6))\n",
    "sns.barplot(data=df, x='coefficient', y='feature', palette='coolwarm')\n",
    "plt.axvline(0, color='black', linewidth=0.8)\n",
    "plt.title('Feature Coefficients (Logistic Regression)')\n",
    "plt.tight_layout()\n",
    "plt.show()"
   ]
  }
 ],
 "metadata": {
  "kernelspec": {
   "display_name": "Python 3 (ipykernel)",
   "language": "python",
   "name": "python3"
  },
  "language_info": {
   "codemirror_mode": {
    "name": "ipython",
    "version": 3
   },
   "file_extension": ".py",
   "mimetype": "text/x-python",
   "name": "python",
   "nbconvert_exporter": "python",
   "pygments_lexer": "ipython3",
   "version": "3.12.0"
  }
 },
 "nbformat": 4,
 "nbformat_minor": 5
}
