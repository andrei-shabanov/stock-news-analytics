{
 "cells": [
  {
   "cell_type": "code",
   "execution_count": 1,
   "id": "7c1f2a75-dcf9-4c61-b762-cf8effc2f054",
   "metadata": {},
   "outputs": [
    {
     "name": "stderr",
     "output_type": "stream",
     "text": [
      "[nltk_data] Downloading package stopwords to\n",
      "[nltk_data]     C:\\Users\\kasim\\AppData\\Roaming\\nltk_data...\n",
      "[nltk_data]   Package stopwords is already up-to-date!\n"
     ]
    },
    {
     "name": "stdout",
     "output_type": "stream",
     "text": [
      "Title              object\n",
      "Tag                object\n",
      "Date       datetime64[ns]\n",
      "Content            object\n",
      "dtype: object\n"
     ]
    }
   ],
   "source": [
    "%run 2.1_data_preparation_news.ipynb"
   ]
  },
  {
   "cell_type": "code",
   "execution_count": 2,
   "id": "265aa088-f7b1-4fe9-a25b-021aca98671b",
   "metadata": {},
   "outputs": [
    {
     "name": "stdout",
     "output_type": "stream",
     "text": [
      "              precision    recall  f1-score   support\n",
      "\n",
      "    negative       0.84      0.84      0.84      1500\n",
      "     positiv       0.81      0.80      0.81      1228\n",
      "\n",
      "    accuracy                           0.83      2728\n",
      "   macro avg       0.82      0.82      0.82      2728\n",
      "weighted avg       0.83      0.83      0.83      2728\n",
      "\n"
     ]
    }
   ],
   "source": [
    "from sklearn.model_selection import train_test_split\n",
    "from sklearn.feature_extraction.text import TfidfVectorizer\n",
    "from sklearn.linear_model import LogisticRegression\n",
    "from sklearn.metrics import classification_report\n",
    "from sklearn.preprocessing import StandardScaler\n",
    "from scipy.sparse import hstack\n",
    "\n",
    "for col in ['Prev_change', 'Sma_5', 'Volatility']:\n",
    "    tokenized_df[col] = tokenized_df[col].fillna(tokenized_df[col].mean())\n",
    "\n",
    "tokenized_df['text'] = tokenized_df['Cleaned Content'].apply(lambda x: ' '.join(x))\n",
    "\n",
    "vectorizer = TfidfVectorizer(ngram_range=(1, 2), max_df=0.9, min_df=5)\n",
    "X_text = vectorizer.fit_transform(tokenized_df['text'])\n",
    "\n",
    "numeric_features = ['Prev_change', 'Sma_5', 'Volatility']\n",
    "numeric_data = tokenized_df[numeric_features]\n",
    "scaler = StandardScaler()\n",
    "X_numeric = scaler.fit_transform(numeric_data)\n",
    "\n",
    "X_combined = hstack([X_text, X_numeric])\n",
    "\n",
    "y = tokenized_df['Simple Label']\n",
    "\n",
    "X_train, X_test, y_train, y_test = train_test_split(X_combined, y, test_size=0.2, random_state=42)\n",
    "\n",
    "model = LogisticRegression(class_weight='balanced', max_iter=1000)\n",
    "model.fit(X_train, y_train)\n",
    "\n",
    "y_pred = model.predict(X_test)\n",
    "print(classification_report(y_test, y_pred))"
   ]
  }
 ],
 "metadata": {
  "kernelspec": {
   "display_name": "Python 3 (ipykernel)",
   "language": "python",
   "name": "python3"
  },
  "language_info": {
   "codemirror_mode": {
    "name": "ipython",
    "version": 3
   },
   "file_extension": ".py",
   "mimetype": "text/x-python",
   "name": "python",
   "nbconvert_exporter": "python",
   "pygments_lexer": "ipython3",
   "version": "3.12.0"
  }
 },
 "nbformat": 4,
 "nbformat_minor": 5
}
